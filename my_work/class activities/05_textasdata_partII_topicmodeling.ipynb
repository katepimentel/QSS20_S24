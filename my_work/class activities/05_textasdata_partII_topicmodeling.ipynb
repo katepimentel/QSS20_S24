{
 "cells": [
  {
   "cell_type": "markdown",
   "metadata": {},
   "source": [
    "# Notebook for topic modeling "
   ]
  },
  {
   "cell_type": "markdown",
   "metadata": {},
   "source": [
    "# 0. Imports"
   ]
  },
  {
   "cell_type": "code",
   "execution_count": 6,
   "metadata": {},
   "outputs": [],
   "source": [
    "## load packages \n",
    "import pandas as pd\n",
    "import re\n",
    "import numpy as np\n",
    "\n",
    "## nltk imports\n",
    "#!pip install nltk # can install on terminal or by uncommenting this line\n",
    "#import nltk; nltk.download('punkt'); nltk.download('stopwords')\n",
    "from nltk.tokenize import word_tokenize, wordpunct_tokenize\n",
    "from nltk.corpus import stopwords\n",
    "from nltk.stem.porter import PorterStemmer\n",
    "\n",
    "## sklearn imports\n",
    "from sklearn.feature_extraction.text import CountVectorizer\n",
    "\n",
    "## lda\n",
    "#!pip install gensim # can install by uncommenting this line\n",
    "from gensim import corpora\n",
    "import gensim\n",
    "\n",
    "## visualizing LDA--likely need to install\n",
    "#!pip install pyLDAvis # can install by uncommenting this line\n",
    "import pyLDAvis.gensim_models as gensimvis\n",
    "import pyLDAvis\n",
    "pyLDAvis.enable_notebook()\n",
    "\n",
    "## print mult things\n",
    "from IPython.core.interactiveshell import InteractiveShell\n",
    "InteractiveShell.ast_node_interactivity = \"all\"\n",
    "\n",
    "## random\n",
    "import random\n",
    "import string; punctlist = [char for char in string.punctuation] # list of english punctuation marks"
   ]
  },
  {
   "cell_type": "code",
   "execution_count": 8,
   "metadata": {},
   "outputs": [
    {
     "name": "stderr",
     "output_type": "stream",
     "text": [
      "[nltk_data] Downloading package stopwords to\n",
      "[nltk_data]     /Users/katepimentel/nltk_data...\n",
      "[nltk_data]   Unzipping corpora/stopwords.zip.\n"
     ]
    },
    {
     "data": {
      "text/plain": [
       "True"
      ]
     },
     "execution_count": 8,
     "metadata": {},
     "output_type": "execute_result"
    }
   ],
   "source": [
    "import nltk\n",
    "nltk.download('stopwords')"
   ]
  },
  {
   "cell_type": "markdown",
   "metadata": {},
   "source": [
    "# 0. Load data"
   ]
  },
  {
   "cell_type": "code",
   "execution_count": 19,
   "metadata": {},
   "outputs": [
    {
     "data": {
      "text/html": [
       "<div>\n",
       "<style scoped>\n",
       "    .dataframe tbody tr th:only-of-type {\n",
       "        vertical-align: middle;\n",
       "    }\n",
       "\n",
       "    .dataframe tbody tr th {\n",
       "        vertical-align: top;\n",
       "    }\n",
       "\n",
       "    .dataframe thead th {\n",
       "        text-align: right;\n",
       "    }\n",
       "</style>\n",
       "<table border=\"1\" class=\"dataframe\">\n",
       "  <thead>\n",
       "    <tr style=\"text-align: right;\">\n",
       "      <th></th>\n",
       "      <th>id</th>\n",
       "      <th>name</th>\n",
       "      <th>name_upper</th>\n",
       "      <th>neighbourhood_group</th>\n",
       "      <th>price</th>\n",
       "    </tr>\n",
       "  </thead>\n",
       "  <tbody>\n",
       "    <tr>\n",
       "      <th>0</th>\n",
       "      <td>2539</td>\n",
       "      <td>Clean &amp; quiet apt home by the park</td>\n",
       "      <td>CLEAN &amp; QUIET APT HOME BY THE PARK</td>\n",
       "      <td>Brooklyn</td>\n",
       "      <td>149</td>\n",
       "    </tr>\n",
       "    <tr>\n",
       "      <th>1</th>\n",
       "      <td>2595</td>\n",
       "      <td>Skylit Midtown Castle</td>\n",
       "      <td>SKYLIT MIDTOWN CASTLE</td>\n",
       "      <td>Manhattan</td>\n",
       "      <td>225</td>\n",
       "    </tr>\n",
       "    <tr>\n",
       "      <th>2</th>\n",
       "      <td>3647</td>\n",
       "      <td>THE VILLAGE OF HARLEM....NEW YORK !</td>\n",
       "      <td>THE VILLAGE OF HARLEM....NEW YORK !</td>\n",
       "      <td>Manhattan</td>\n",
       "      <td>150</td>\n",
       "    </tr>\n",
       "    <tr>\n",
       "      <th>3</th>\n",
       "      <td>3831</td>\n",
       "      <td>Cozy Entire Floor of Brownstone</td>\n",
       "      <td>COZY ENTIRE FLOOR OF BROWNSTONE</td>\n",
       "      <td>Brooklyn</td>\n",
       "      <td>89</td>\n",
       "    </tr>\n",
       "    <tr>\n",
       "      <th>4</th>\n",
       "      <td>5022</td>\n",
       "      <td>Entire Apt: Spacious Studio/Loft by central park</td>\n",
       "      <td>ENTIRE APT: SPACIOUS STUDIO/LOFT BY CENTRAL PARK</td>\n",
       "      <td>Manhattan</td>\n",
       "      <td>80</td>\n",
       "    </tr>\n",
       "  </tbody>\n",
       "</table>\n",
       "</div>"
      ],
      "text/plain": [
       "     id                                              name  \\\n",
       "0  2539                Clean & quiet apt home by the park   \n",
       "1  2595                             Skylit Midtown Castle   \n",
       "2  3647               THE VILLAGE OF HARLEM....NEW YORK !   \n",
       "3  3831                   Cozy Entire Floor of Brownstone   \n",
       "4  5022  Entire Apt: Spacious Studio/Loft by central park   \n",
       "\n",
       "                                         name_upper neighbourhood_group  price  \n",
       "0                CLEAN & QUIET APT HOME BY THE PARK            Brooklyn    149  \n",
       "1                             SKYLIT MIDTOWN CASTLE           Manhattan    225  \n",
       "2               THE VILLAGE OF HARLEM....NEW YORK !           Manhattan    150  \n",
       "3                   COZY ENTIRE FLOOR OF BROWNSTONE            Brooklyn     89  \n",
       "4  ENTIRE APT: SPACIOUS STUDIO/LOFT BY CENTRAL PARK           Manhattan     80  "
      ]
     },
     "execution_count": 19,
     "metadata": {},
     "output_type": "execute_result"
    }
   ],
   "source": [
    "ab = pd.read_csv(\"../../public_data/airbnb_text.zip\")\n",
    "ab.head()"
   ]
  },
  {
   "cell_type": "markdown",
   "metadata": {},
   "source": [
    "# 1. Preprocess documents\n",
    "\n",
    "In this case, each name/name_upper, or listing title, we're treating as a document"
   ]
  },
  {
   "cell_type": "markdown",
   "metadata": {},
   "source": [
    "## 1.1 Load stopwords list and augment with our own custom ones"
   ]
  },
  {
   "cell_type": "code",
   "execution_count": 11,
   "metadata": {},
   "outputs": [],
   "source": [
    "list_stopwords = stopwords.words(\"english\")\n",
    "\n",
    "custom_words_toadd = ['apartment', 'new york', 'nyc',\n",
    "                      'bronx', 'brooklyn',\n",
    "                     'manhattan', 'queens', \n",
    "                      'staten island']\n",
    "\n",
    "list_stopwords_new = list_stopwords + custom_words_toadd\n"
   ]
  },
  {
   "cell_type": "code",
   "execution_count": 12,
   "metadata": {},
   "outputs": [
    {
     "data": {
      "text/plain": [
       "['i',\n",
       " 'me',\n",
       " 'my',\n",
       " 'myself',\n",
       " 'we',\n",
       " 'our',\n",
       " 'ours',\n",
       " 'ourselves',\n",
       " 'you',\n",
       " \"you're\",\n",
       " \"you've\",\n",
       " \"you'll\",\n",
       " \"you'd\",\n",
       " 'your',\n",
       " 'yours',\n",
       " 'yourself',\n",
       " 'yourselves',\n",
       " 'he',\n",
       " 'him',\n",
       " 'his',\n",
       " 'himself',\n",
       " 'she',\n",
       " \"she's\",\n",
       " 'her',\n",
       " 'hers',\n",
       " 'herself',\n",
       " 'it',\n",
       " \"it's\",\n",
       " 'its',\n",
       " 'itself',\n",
       " 'they',\n",
       " 'them',\n",
       " 'their',\n",
       " 'theirs',\n",
       " 'themselves',\n",
       " 'what',\n",
       " 'which',\n",
       " 'who',\n",
       " 'whom',\n",
       " 'this',\n",
       " 'that',\n",
       " \"that'll\",\n",
       " 'these',\n",
       " 'those',\n",
       " 'am',\n",
       " 'is',\n",
       " 'are',\n",
       " 'was',\n",
       " 'were',\n",
       " 'be',\n",
       " 'been',\n",
       " 'being',\n",
       " 'have',\n",
       " 'has',\n",
       " 'had',\n",
       " 'having',\n",
       " 'do',\n",
       " 'does',\n",
       " 'did',\n",
       " 'doing',\n",
       " 'a',\n",
       " 'an',\n",
       " 'the',\n",
       " 'and',\n",
       " 'but',\n",
       " 'if',\n",
       " 'or',\n",
       " 'because',\n",
       " 'as',\n",
       " 'until',\n",
       " 'while',\n",
       " 'of',\n",
       " 'at',\n",
       " 'by',\n",
       " 'for',\n",
       " 'with',\n",
       " 'about',\n",
       " 'against',\n",
       " 'between',\n",
       " 'into',\n",
       " 'through',\n",
       " 'during',\n",
       " 'before',\n",
       " 'after',\n",
       " 'above',\n",
       " 'below',\n",
       " 'to',\n",
       " 'from',\n",
       " 'up',\n",
       " 'down',\n",
       " 'in',\n",
       " 'out',\n",
       " 'on',\n",
       " 'off',\n",
       " 'over',\n",
       " 'under',\n",
       " 'again',\n",
       " 'further',\n",
       " 'then',\n",
       " 'once',\n",
       " 'here',\n",
       " 'there',\n",
       " 'when',\n",
       " 'where',\n",
       " 'why',\n",
       " 'how',\n",
       " 'all',\n",
       " 'any',\n",
       " 'both',\n",
       " 'each',\n",
       " 'few',\n",
       " 'more',\n",
       " 'most',\n",
       " 'other',\n",
       " 'some',\n",
       " 'such',\n",
       " 'no',\n",
       " 'nor',\n",
       " 'not',\n",
       " 'only',\n",
       " 'own',\n",
       " 'same',\n",
       " 'so',\n",
       " 'than',\n",
       " 'too',\n",
       " 'very',\n",
       " 's',\n",
       " 't',\n",
       " 'can',\n",
       " 'will',\n",
       " 'just',\n",
       " 'don',\n",
       " \"don't\",\n",
       " 'should',\n",
       " \"should've\",\n",
       " 'now',\n",
       " 'd',\n",
       " 'll',\n",
       " 'm',\n",
       " 'o',\n",
       " 're',\n",
       " 've',\n",
       " 'y',\n",
       " 'ain',\n",
       " 'aren',\n",
       " \"aren't\",\n",
       " 'couldn',\n",
       " \"couldn't\",\n",
       " 'didn',\n",
       " \"didn't\",\n",
       " 'doesn',\n",
       " \"doesn't\",\n",
       " 'hadn',\n",
       " \"hadn't\",\n",
       " 'hasn',\n",
       " \"hasn't\",\n",
       " 'haven',\n",
       " \"haven't\",\n",
       " 'isn',\n",
       " \"isn't\",\n",
       " 'ma',\n",
       " 'mightn',\n",
       " \"mightn't\",\n",
       " 'mustn',\n",
       " \"mustn't\",\n",
       " 'needn',\n",
       " \"needn't\",\n",
       " 'shan',\n",
       " \"shan't\",\n",
       " 'shouldn',\n",
       " \"shouldn't\",\n",
       " 'wasn',\n",
       " \"wasn't\",\n",
       " 'weren',\n",
       " \"weren't\",\n",
       " 'won',\n",
       " \"won't\",\n",
       " 'wouldn',\n",
       " \"wouldn't\",\n",
       " 'apartment',\n",
       " 'new york',\n",
       " 'nyc',\n",
       " 'bronx',\n",
       " 'brooklyn',\n",
       " 'manhattan',\n",
       " 'queens',\n",
       " 'staten island']"
      ]
     },
     "execution_count": 12,
     "metadata": {},
     "output_type": "execute_result"
    }
   ],
   "source": [
    "list_stopwords_new"
   ]
  },
  {
   "cell_type": "markdown",
   "metadata": {},
   "source": [
    "## 1.2 Remove stopwords from lowercase version of corpus\n"
   ]
  },
  {
   "cell_type": "code",
   "execution_count": 13,
   "metadata": {},
   "outputs": [
    {
     "data": {
      "text/plain": [
       "['clean & quiet apt home by the park',\n",
       " 'skylit midtown castle',\n",
       " 'the village of harlem....new york !',\n",
       " 'cozy entire floor of brownstone',\n",
       " 'entire apt: spacious studio/loft by central park']"
      ]
     },
     "execution_count": 13,
     "metadata": {},
     "output_type": "execute_result"
    },
    {
     "data": {
      "text/plain": [
       "['cozy', 'entire', 'floor', 'brownstone']"
      ]
     },
     "execution_count": 13,
     "metadata": {},
     "output_type": "execute_result"
    }
   ],
   "source": [
    "## convert to lowercase and a list\n",
    "corpus_lower = ab.name.str.lower().to_list()\n",
    "corpus_lower[0:5]\n",
    "\n",
    "## use wordpunct tokenize and filter out with one\n",
    "example_listing = corpus_lower[3]\n",
    "nostop_listing = [word for word in wordpunct_tokenize(example_listing) \n",
    "                          if word not in list_stopwords_new]\n",
    "nostop_listing"
   ]
  },
  {
   "cell_type": "markdown",
   "metadata": {},
   "source": [
    "## 1.3 stem and remove non-alpha\n",
    "\n",
    "Other contexts we may want to leave digits in"
   ]
  },
  {
   "cell_type": "code",
   "execution_count": 14,
   "metadata": {},
   "outputs": [
    {
     "data": {
      "text/plain": [
       "['cozi', 'entir', 'floor', 'brownston']"
      ]
     },
     "execution_count": 14,
     "metadata": {},
     "output_type": "execute_result"
    }
   ],
   "source": [
    "## initialize stemmer\n",
    "porter = PorterStemmer()\n",
    "\n",
    "## apply to one by iterating\n",
    "## over the tokens in the list\n",
    "example_listing_preprocess = [porter.stem(token) \n",
    "                            for token in nostop_listing \n",
    "                            if token.isalpha() and \n",
    "                            len(token) > 2]\n",
    "\n",
    "example_listing_preprocess"
   ]
  },
  {
   "cell_type": "code",
   "execution_count": 15,
   "metadata": {},
   "outputs": [
    {
     "data": {
      "text/plain": [
       "'cozy entire floor of brownstone'"
      ]
     },
     "execution_count": 15,
     "metadata": {},
     "output_type": "execute_result"
    },
    {
     "data": {
      "text/plain": [
       "['cozi', 'entir', 'floor', 'brownston']"
      ]
     },
     "execution_count": 15,
     "metadata": {},
     "output_type": "execute_result"
    }
   ],
   "source": [
    "example_listing\n",
    "example_listing_preprocess"
   ]
  },
  {
   "cell_type": "markdown",
   "metadata": {},
   "source": [
    "## 1.4 Activity 1\n",
    "\n",
    "The above example performed preprocessing on a single Airbnb listing. We want to generalize this preprocessing across all listings.\n",
    "\n",
    "- Embed step two (remove stopwords) and step three (stem) into one or two functions that take in a raw string (eg the raw text of an Airbnb review) and return a preprocessed string \n",
    "- Apply the function iteratively to preprocess all the texts in `corpus_lower`. Output could either be a list where each list element is a string of a list (e.g., `cozy brownstone apt`), or a list of lists where each element is a tokenized string (e.g., `['cozy', 'brownstone', 'apt'])`\n",
    "\n",
    "Output is flexible: it could be a list of lists containing tokenized/stemmed text or a list of strings."
   ]
  },
  {
   "cell_type": "code",
   "execution_count": 20,
   "metadata": {},
   "outputs": [
    {
     "data": {
      "text/plain": [
       "[['clean', 'quiet', 'apt', 'home', 'park'],\n",
       " ['skylit', 'midtown', 'castl'],\n",
       " ['villag', 'harlem', 'new', 'york'],\n",
       " ['cozi', 'entir', 'floor', 'brownston'],\n",
       " ['entir', 'apt', 'spaciou', 'studio', 'loft', 'central', 'park'],\n",
       " ['larg', 'cozi', 'midtown', 'east']]"
      ]
     },
     "execution_count": 20,
     "metadata": {},
     "output_type": "execute_result"
    }
   ],
   "source": [
    "# defining function\n",
    "def process_string(text):\n",
    "    if pd.isna(text):\n",
    "        return \"\"\n",
    "    lower_text = text.lower()\n",
    "    ## use wordpunct tokenize and filter out with one\n",
    "    nostop_listing = [word for word in wordpunct_tokenize(lower_text)\n",
    "                              if word not in list_stopwords_new]\n",
    "    ## apply to one by iterating\n",
    "    ## over the tokens in the list\n",
    "    text_preprocess = [porter.stem(token)\n",
    "                                for token in nostop_listing\n",
    "                                if token.isalpha() and\n",
    "                                len(token) > 2]\n",
    "    return text_preprocess\n",
    "    \n",
    "# your code here to apply the function\n",
    "preprocessing = [process_string(text) for text in corpus_lower]\n",
    "preprocessing[:6]"
   ]
  },
  {
   "cell_type": "code",
   "execution_count": 21,
   "metadata": {},
   "outputs": [],
   "source": [
    "def process_step1(one_str):\n",
    "    try:\n",
    "        nostop_listing1 = [word for word in wordpunct_tokenize(one_str)\n",
    "                           if word not in list_stopwords_new]\n",
    "        clean_listing = [porter.stem(word) for word in nostop_listing1\n",
    "                        if word.isalpha()\n",
    "                        and len(word) > 3]\n",
    "        clean_listing_str = \" \".join(clean_listing)\n",
    "        return(clean_listing_str)\n",
    "    except:\n",
    "        return(\"\")\n",
    "\n",
    "cleaned_listings = [process_step1(one_listing) for one_listing in\n",
    "                    corpus_lower]\n",
    "\n"
   ]
  },
  {
   "cell_type": "code",
   "execution_count": 23,
   "metadata": {},
   "outputs": [
    {
     "data": {
      "text/html": [
       "<div>\n",
       "<style scoped>\n",
       "    .dataframe tbody tr th:only-of-type {\n",
       "        vertical-align: middle;\n",
       "    }\n",
       "\n",
       "    .dataframe tbody tr th {\n",
       "        vertical-align: top;\n",
       "    }\n",
       "\n",
       "    .dataframe thead th {\n",
       "        text-align: right;\n",
       "    }\n",
       "</style>\n",
       "<table border=\"1\" class=\"dataframe\">\n",
       "  <thead>\n",
       "    <tr style=\"text-align: right;\">\n",
       "      <th></th>\n",
       "      <th>name</th>\n",
       "      <th>proc_name</th>\n",
       "    </tr>\n",
       "  </thead>\n",
       "  <tbody>\n",
       "    <tr>\n",
       "      <th>0</th>\n",
       "      <td>Clean &amp; quiet apt home by the park</td>\n",
       "      <td>clean quiet home park</td>\n",
       "    </tr>\n",
       "    <tr>\n",
       "      <th>1</th>\n",
       "      <td>Skylit Midtown Castle</td>\n",
       "      <td>skylit midtown castl</td>\n",
       "    </tr>\n",
       "    <tr>\n",
       "      <th>2</th>\n",
       "      <td>THE VILLAGE OF HARLEM....NEW YORK !</td>\n",
       "      <td>villag harlem york</td>\n",
       "    </tr>\n",
       "    <tr>\n",
       "      <th>3</th>\n",
       "      <td>Cozy Entire Floor of Brownstone</td>\n",
       "      <td>cozi entir floor brownston</td>\n",
       "    </tr>\n",
       "    <tr>\n",
       "      <th>4</th>\n",
       "      <td>Entire Apt: Spacious Studio/Loft by central park</td>\n",
       "      <td>entir spaciou studio loft central park</td>\n",
       "    </tr>\n",
       "    <tr>\n",
       "      <th>5</th>\n",
       "      <td>Large Cozy 1 BR Apartment In Midtown East</td>\n",
       "      <td>larg cozi apart midtown east</td>\n",
       "    </tr>\n",
       "    <tr>\n",
       "      <th>6</th>\n",
       "      <td>BlissArtsSpace!</td>\n",
       "      <td>blissartsspac</td>\n",
       "    </tr>\n",
       "    <tr>\n",
       "      <th>7</th>\n",
       "      <td>Large Furnished Room Near B'way</td>\n",
       "      <td>larg furnish room near</td>\n",
       "    </tr>\n",
       "    <tr>\n",
       "      <th>8</th>\n",
       "      <td>Cozy Clean Guest Room - Family Apt</td>\n",
       "      <td>cozi clean guest room famili</td>\n",
       "    </tr>\n",
       "    <tr>\n",
       "      <th>9</th>\n",
       "      <td>Cute &amp; Cozy Lower East Side 1 bdrm</td>\n",
       "      <td>cute cozi lower east side bdrm</td>\n",
       "    </tr>\n",
       "  </tbody>\n",
       "</table>\n",
       "</div>"
      ],
      "text/plain": [
       "                                               name  \\\n",
       "0                Clean & quiet apt home by the park   \n",
       "1                             Skylit Midtown Castle   \n",
       "2               THE VILLAGE OF HARLEM....NEW YORK !   \n",
       "3                   Cozy Entire Floor of Brownstone   \n",
       "4  Entire Apt: Spacious Studio/Loft by central park   \n",
       "5         Large Cozy 1 BR Apartment In Midtown East   \n",
       "6                                   BlissArtsSpace!   \n",
       "7                  Large Furnished Room Near B'way    \n",
       "8                Cozy Clean Guest Room - Family Apt   \n",
       "9                Cute & Cozy Lower East Side 1 bdrm   \n",
       "\n",
       "                                proc_name  \n",
       "0                   clean quiet home park  \n",
       "1                    skylit midtown castl  \n",
       "2                      villag harlem york  \n",
       "3              cozi entir floor brownston  \n",
       "4  entir spaciou studio loft central park  \n",
       "5            larg cozi apart midtown east  \n",
       "6                           blissartsspac  \n",
       "7                  larg furnish room near  \n",
       "8            cozi clean guest room famili  \n",
       "9          cute cozi lower east side bdrm  "
      ]
     },
     "execution_count": 23,
     "metadata": {},
     "output_type": "execute_result"
    }
   ],
   "source": [
    "ab['proc_name'] = cleaned_listings\n",
    "ab[['name', 'proc_name']].head(10)"
   ]
  },
  {
   "cell_type": "markdown",
   "metadata": {},
   "source": [
    "# 2. Create a document-term matrix and do some basic diagnostics (more manual approach)\n",
    "\n",
    "Here we'll create a DTM first using the raw documents; in the activity, you'll create one using the preprocessed docs\n",
    "that you created in activity 1"
   ]
  },
  {
   "cell_type": "markdown",
   "metadata": {},
   "source": [
    "## 2.1 Define the dtm function and select data to transform into a document-term matrix"
   ]
  },
  {
   "cell_type": "code",
   "execution_count": 25,
   "metadata": {},
   "outputs": [],
   "source": [
    "## function provided\n",
    "def create_dtm(list_of_strings, metadata):\n",
    "    \"\"\" \n",
    "    Function to create dense document-term matrix (DTM) from a list of strings and provided metadata. \n",
    "    A sparse DTM is a list of term_index/doc_index tuples: if a given term occurs in a given doc at least once, \n",
    "        then this count is listed as a tuple; if not, that term/doc pair is omitted. \n",
    "    In a dense DTM, each row is one text (e.g., an Airbnb listing), each column is a term, and \n",
    "        each cell indicates the frequency of that word in that text. \n",
    "    \n",
    "    Parameters:\n",
    "        list_of_strings (Series): each row contains a preprocessed string (need not be tokenized)\n",
    "        metadata (DataFrame): contains document-level covariates\n",
    "    \n",
    "    Returns:\n",
    "        Dense DTM with metadata on left and then one column per word in lexicon\n",
    "    \"\"\"\n",
    "    \n",
    "    # initialize a sklearn tokenizer; this helps us tokenize the preprocessed string input\n",
    "    vectorizer = CountVectorizer(lowercase = True) \n",
    "    dtm_sparse = vectorizer.fit_transform(list_of_strings)\n",
    "    print('Sparse matrix form:\\n', dtm_sparse[:3]) # take a look at sparse representation\n",
    "    print()\n",
    "    \n",
    "    # switch the dataframe from the sparse representation to the normal dense representation (so we can treat it as regular dataframe)\n",
    "    dtm_dense_named = pd.DataFrame(dtm_sparse.todense(), columns=vectorizer.get_feature_names_out ())\n",
    "    print('Dense matrix form:\\n', dtm_dense_named.head()) # take a look at dense representation\n",
    "    dtm_dense_named_withid = pd.concat([metadata.reset_index(), dtm_dense_named], axis = 1) # add back document-level covariates\n",
    "\n",
    "    return(dtm_dense_named_withid)"
   ]
  },
  {
   "cell_type": "code",
   "execution_count": 26,
   "metadata": {},
   "outputs": [
    {
     "data": {
      "text/html": [
       "<div>\n",
       "<style scoped>\n",
       "    .dataframe tbody tr th:only-of-type {\n",
       "        vertical-align: middle;\n",
       "    }\n",
       "\n",
       "    .dataframe tbody tr th {\n",
       "        vertical-align: top;\n",
       "    }\n",
       "\n",
       "    .dataframe thead th {\n",
       "        text-align: right;\n",
       "    }\n",
       "</style>\n",
       "<table border=\"1\" class=\"dataframe\">\n",
       "  <thead>\n",
       "    <tr style=\"text-align: right;\">\n",
       "      <th></th>\n",
       "      <th>id</th>\n",
       "      <th>neighbourhood_group</th>\n",
       "      <th>price_rawdata</th>\n",
       "      <th>name</th>\n",
       "      <th>name_lower</th>\n",
       "    </tr>\n",
       "  </thead>\n",
       "  <tbody>\n",
       "    <tr>\n",
       "      <th>23821</th>\n",
       "      <td>19227560</td>\n",
       "      <td>Queens</td>\n",
       "      <td>100</td>\n",
       "      <td>Super Cozy!</td>\n",
       "      <td>super cozy!</td>\n",
       "    </tr>\n",
       "    <tr>\n",
       "      <th>22905</th>\n",
       "      <td>18560625</td>\n",
       "      <td>Brooklyn</td>\n",
       "      <td>30</td>\n",
       "      <td>Beautiful Private Bedroom by Prospect Park</td>\n",
       "      <td>beautiful private bedroom by prospect park</td>\n",
       "    </tr>\n",
       "    <tr>\n",
       "      <th>20426</th>\n",
       "      <td>16289576</td>\n",
       "      <td>Manhattan</td>\n",
       "      <td>80</td>\n",
       "      <td>Best Location on the Upper West Side! - Part II</td>\n",
       "      <td>best location on the upper west side! - part ii</td>\n",
       "    </tr>\n",
       "    <tr>\n",
       "      <th>2018</th>\n",
       "      <td>893413</td>\n",
       "      <td>Manhattan</td>\n",
       "      <td>2500</td>\n",
       "      <td>Architecturally Stunning Former Synagogue!</td>\n",
       "      <td>architecturally stunning former synagogue!</td>\n",
       "    </tr>\n",
       "    <tr>\n",
       "      <th>18790</th>\n",
       "      <td>14882137</td>\n",
       "      <td>Queens</td>\n",
       "      <td>50</td>\n",
       "      <td>Large, beautiful room near Bushwick</td>\n",
       "      <td>large, beautiful room near bushwick</td>\n",
       "    </tr>\n",
       "  </tbody>\n",
       "</table>\n",
       "</div>"
      ],
      "text/plain": [
       "             id neighbourhood_group  price_rawdata  \\\n",
       "23821  19227560              Queens            100   \n",
       "22905  18560625            Brooklyn             30   \n",
       "20426  16289576           Manhattan             80   \n",
       "2018     893413           Manhattan           2500   \n",
       "18790  14882137              Queens             50   \n",
       "\n",
       "                                                  name  \\\n",
       "23821                                      Super Cozy!   \n",
       "22905       Beautiful Private Bedroom by Prospect Park   \n",
       "20426  Best Location on the Upper West Side! - Part II   \n",
       "2018        Architecturally Stunning Former Synagogue!   \n",
       "18790              Large, beautiful room near Bushwick   \n",
       "\n",
       "                                            name_lower  \n",
       "23821                                      super cozy!  \n",
       "22905       beautiful private bedroom by prospect park  \n",
       "20426  best location on the upper west side! - part ii  \n",
       "2018        architecturally stunning former synagogue!  \n",
       "18790              large, beautiful room near bushwick  "
      ]
     },
     "execution_count": 26,
     "metadata": {},
     "output_type": "execute_result"
    }
   ],
   "source": [
    "\n",
    "## filter out na's\n",
    "## for shorter runtime, random sampling of 1000\n",
    "## get metadata for those\n",
    "## and also renaming price col since it's likely to be corpus word\n",
    "ab_small = ab.loc[~ab.name.isnull(),\n",
    "           ['id', 'neighbourhood_group', 'price', 'name']].copy().rename(columns = {'price':\n",
    "            'price_rawdata'}).sample(n = 1000, random_state = 422)\n",
    "\n",
    "ab_small['name_lower'] = ab_small['name'].str.lower()\n",
    "ab_small.head()"
   ]
  },
  {
   "cell_type": "markdown",
   "metadata": {},
   "source": [
    "## 2.2 Execute the dtm function to create the document-term matrix"
   ]
  },
  {
   "cell_type": "code",
   "execution_count": 27,
   "metadata": {},
   "outputs": [
    {
     "name": "stdout",
     "output_type": "stream",
     "text": [
      "Sparse matrix form:\n",
      "   (0, 841)\t1\n",
      "  (0, 281)\t1\n",
      "  (1, 152)\t1\n",
      "  (1, 693)\t1\n",
      "  (1, 157)\t1\n",
      "  (1, 205)\t1\n",
      "  (1, 698)\t1\n",
      "  (1, 653)\t1\n",
      "  (2, 165)\t1\n",
      "  (2, 537)\t1\n",
      "  (2, 637)\t1\n",
      "  (2, 856)\t1\n",
      "  (2, 902)\t1\n",
      "  (2, 939)\t1\n",
      "  (2, 774)\t1\n",
      "  (2, 657)\t1\n",
      "  (2, 471)\t1\n",
      "\n",
      "Dense matrix form:\n",
      "    001  10  10m  10min  10mins  1100  12mins  14  15  15min  ...  yoga  york  \\\n",
      "0    0   0    0      0       0     0       0   0   0      0  ...     0     0   \n",
      "1    0   0    0      0       0     0       0   0   0      0  ...     0     0   \n",
      "2    0   0    0      0       0     0       0   0   0      0  ...     0     0   \n",
      "3    0   0    0      0       0     0       0   0   0      0  ...     0     0   \n",
      "4    0   0    0      0       0     0       0   0   0      0  ...     0     0   \n",
      "\n",
      "   you  your  yu  zen  ღღღsteps  法拉盛中心私人房間獨立衛浴  溫馨大套房  獨一無二的紐約閣樓  \n",
      "0    0     0   0    0         0              0      0          0  \n",
      "1    0     0   0    0         0              0      0          0  \n",
      "2    0     0   0    0         0              0      0          0  \n",
      "3    0     0   0    0         0              0      0          0  \n",
      "4    0     0   0    0         0              0      0          0  \n",
      "\n",
      "[5 rows x 970 columns]\n"
     ]
    }
   ],
   "source": [
    "## example application on raw lowercase texts; \n",
    "dtm_nopre = create_dtm(list_of_strings= ab_small.name_lower,\n",
    "                      metadata = ab_small[['id', 'neighbourhood_group', 'price_rawdata']])\n",
    "\n"
   ]
  },
  {
   "cell_type": "code",
   "execution_count": null,
   "metadata": {},
   "outputs": [],
   "source": [
    "## show first set of rows/cols\n",
    "dtm_nopre.head()\n",
    "\n",
    "## show arbitrary later cols in resulting data\n",
    "dtm_nopre.shape\n",
    "dtm_nopre.iloc[0:5, 480:500]"
   ]
  },
  {
   "cell_type": "markdown",
   "metadata": {},
   "source": [
    "## 2.3 Use that matrix/column sums to get basic summary stats of top words"
   ]
  },
  {
   "cell_type": "code",
   "execution_count": null,
   "metadata": {},
   "outputs": [],
   "source": [
    "## summing each col\n",
    "top_terms = dtm_nopre[dtm_nopre.columns[4:]].sum(axis = 0)\n",
    "\n",
    "## sorting from most frequent to least frequent\n",
    "top_terms.sort_values(ascending = False)"
   ]
  },
  {
   "cell_type": "markdown",
   "metadata": {},
   "source": [
    "## 2.4 Activity 2: repeat the above but using the preprocessed text data\n",
    "\n",
    "- Stick with the same random sample of 1000 `ab_small`\n",
    "- Apply the preprocessing steps from activity 1 to create a new column in `ab_small` with the preprocessed text (if you got stuck on that, try just removing stopwords)\n",
    "- Use the `create_dtm` function to create a document-term matrix from the preprocessed data\n",
    "- Use columns to summarize"
   ]
  },
  {
   "cell_type": "code",
   "execution_count": 29,
   "metadata": {},
   "outputs": [
    {
     "name": "stdout",
     "output_type": "stream",
     "text": [
      "Sparse matrix form:\n",
      "   (0, 584)\t1\n",
      "  (0, 158)\t1\n",
      "  (1, 53)\t1\n",
      "  (1, 460)\t1\n",
      "  (1, 58)\t1\n",
      "  (1, 463)\t1\n",
      "  (1, 427)\t1\n",
      "  (2, 63)\t1\n",
      "  (2, 350)\t1\n",
      "  (2, 631)\t1\n",
      "  (2, 660)\t1\n",
      "  (2, 524)\t1\n",
      "  (2, 429)\t1\n",
      "\n",
      "Dense matrix form:\n",
      "    abcd  abod  access  acidot  acogedor  across  address  ador  aesthet  \\\n",
      "0     0     0       0       0         0       0        0     0        0   \n",
      "1     0     0       0       0         0       0        0     0        0   \n",
      "2     0     0       0       0         0       0        0     0        0   \n",
      "3     0     0       0       0         0       0        0     0        0   \n",
      "4     0     0       0       0         0       0        0     0        0   \n",
      "\n",
      "   afford  ...  yanke  yard  year  yellow  yoga  york  ღღღstep  法拉盛中心私人房間獨立衛浴  \\\n",
      "0       0  ...      0     0     0       0     0     0        0              0   \n",
      "1       0  ...      0     0     0       0     0     0        0              0   \n",
      "2       0  ...      0     0     0       0     0     0        0              0   \n",
      "3       0  ...      0     0     0       0     0     0        0              0   \n",
      "4       0  ...      0     0     0       0     0     0        0              0   \n",
      "\n",
      "   溫馨大套房  獨一無二的紐約閣樓  \n",
      "0      0          0  \n",
      "1      0          0  \n",
      "2      0          0  \n",
      "3      0          0  \n",
      "4      0          0  \n",
      "\n",
      "[5 rows x 682 columns]\n"
     ]
    },
    {
     "data": {
      "text/plain": [
       "room         246\n",
       "privat       165\n",
       "bedroom      159\n",
       "cozi          97\n",
       "spaciou       88\n",
       "            ... \n",
       "hideaway       1\n",
       "help           1\n",
       "heaven         1\n",
       "healthi        1\n",
       "獨一無二的紐約閣樓      1\n",
       "Length: 682, dtype: int64"
      ]
     },
     "execution_count": 29,
     "metadata": {},
     "output_type": "execute_result"
    }
   ],
   "source": [
    "ab_small[\"processed\"] = ab_small.name_lower.apply(process_step1)\n",
    "metadata_list = ['id', 'neighbourhood_group', 'price_rawdata']\n",
    "dtm_pre = create_dtm(list_of_strings= ab_small.processed,\n",
    "                metadata = ab_small[metadata_list])\n",
    "dtm_pre_termsonly = dtm_pre[[col for col in dtm_pre.columns\n",
    "                             if col not in metadata_list and\n",
    "                             col != \"index\"]]\n",
    "dtm_pre_termsonly.sum().sort_values(ascending = False)"
   ]
  },
  {
   "cell_type": "markdown",
   "metadata": {},
   "source": [
    "# 3. Use gensim to more automatically preprocess/estimate a topic model"
   ]
  },
  {
   "cell_type": "markdown",
   "metadata": {},
   "source": [
    "## 3.1 Creating the objects to feed the LDA modeling function\n",
    "\n",
    "Different outputs described below: \n",
    "- Tokenized and preprocessed text \n",
    "- Dictionary \n",
    "- Corpus "
   ]
  },
  {
   "cell_type": "code",
   "execution_count": 30,
   "metadata": {},
   "outputs": [
    {
     "data": {
      "text/plain": [
       "{0: '!', 1: 'cozy', 2: 'super', 3: 'beautiful', 4: 'bedroom'}"
      ]
     },
     "execution_count": 30,
     "metadata": {},
     "output_type": "execute_result"
    },
    {
     "name": "stdout",
     "output_type": "stream",
     "text": [
      "Filtering out very rare and very common words reduced the length of dictionary from 1047 to 31.\n"
     ]
    },
    {
     "data": {
      "text/plain": [
       "{0: '!', 1: 'cozy', 2: 'beautiful', 3: 'bedroom', 4: 'park'}"
      ]
     },
     "execution_count": 30,
     "metadata": {},
     "output_type": "execute_result"
    },
    {
     "name": "stdout",
     "output_type": "stream",
     "text": [
      "Sample of documents represented in dictionary format (with omitted words noted):\n"
     ]
    },
    {
     "data": {
      "text/plain": [
       "[([(0, 1), (1, 1)], {'super': 1}),\n",
       " ([(2, 1), (3, 1), (4, 1), (5, 1)], {'by': 1, 'prospect': 1}),\n",
       " ([(0, 1), (6, 1), (7, 1)],\n",
       "  {'best': 1,\n",
       "   'ii': 1,\n",
       "   'location': 1,\n",
       "   'on': 1,\n",
       "   'part': 1,\n",
       "   'side': 1,\n",
       "   'upper': 1,\n",
       "   'west': 1}),\n",
       " ([(0, 1)],\n",
       "  {'architecturally': 1, 'former': 1, 'stunning': 1, 'synagogue': 1}),\n",
       " ([(2, 1), (8, 1), (9, 1), (10, 1), (11, 1)], {'bushwick': 1}),\n",
       " ([(4, 1), (8, 1), (9, 1), (12, 1), (13, 2)],\n",
       "  {'bath': 1, 'bed': 1, 'by': 1, 'central': 1, 'college': 1, 'hunter': 1}),\n",
       " ([(9, 1), (11, 1), (14, 1), (15, 1)], {'bohemian': 1, 'brownstone': 1}),\n",
       " ([(16, 1)],\n",
       "  {'fidi': 1, 'huge': 1, 'loft': 1, 'views': 1, 'w': 1, 'water': 1}),\n",
       " ([], {'hillside': 1, 'hotel': 1}),\n",
       " ([(5, 1), (9, 1), (11, 1), (14, 1), (15, 1)], {'airy': 1})]"
      ]
     },
     "execution_count": 30,
     "metadata": {},
     "output_type": "execute_result"
    }
   ],
   "source": [
    "\n",
    "## Step 1: re-tokenize and store in list\n",
    "## here, i'm doing with the raw random sample of text\n",
    "## in activity, you should do with the preprocessed texts\n",
    "text_raw_tokens = [wordpunct_tokenize(one_text) for one_text in \n",
    "                  ab_small.name_lower]\n",
    "\n",
    "\n",
    "## Step 2: use gensim create dictionary - gets all unique words across documents\n",
    "text_raw_dict = corpora.Dictionary(text_raw_tokens)\n",
    "raw_len = len(text_raw_dict) # get length for comparison below\n",
    "\n",
    "### explore first few keys and values\n",
    "### see that key is just an arbitrary counter; value is the word itself\n",
    "{k: text_raw_dict[k] for k in list(text_raw_dict)[:5]}\n",
    "\n",
    "\n",
    "## Step 3: filter out very rare and very common words\n",
    "## here, i'm using the threshold that a word needs to appear in at least\n",
    "## 5% of docs but not more than 95%\n",
    "## this is an integer count of docs so i round\n",
    "lower_bound = round(ab_small.shape[0]*0.05)\n",
    "upper_bound = round(ab_small.shape[0]*0.95)\n",
    "\n",
    "### apply filtering to dictionary\n",
    "text_raw_dict.filter_extremes(no_below = lower_bound,\n",
    "                             no_above = upper_bound)\n",
    "print(f'Filtering out very rare and very common words reduced the \\\n",
    "length of dictionary from {str(raw_len)} to {str(len(text_raw_dict))}.')\n",
    "{k: text_raw_dict[k] for k in list(text_raw_dict)[:5]} # show first five entries after filtering\n",
    "\n",
    "\n",
    "## Step 4: apply dictionary to TOKENIZED texts\n",
    "## this creates a mapping between each word \n",
    "## in a specific listing and the key in the dictionary.\n",
    "## for words that remain in the filtered dictionary,\n",
    "## output is a list where len(list) == n documents\n",
    "## and each element in the list is a list of tuples\n",
    "## containing the mappings\n",
    "corpus_fromdict = [text_raw_dict.doc2bow(one_text) \n",
    "                   for one_text in text_raw_tokens]\n",
    "\n",
    "### can apply doc2bow(one_text, return_missing = True) to print words\n",
    "### eliminated from the listing bc they're not in filtered dictionary.\n",
    "### but feeding that one with missing values to\n",
    "### the lda function can cause errors\n",
    "corpus_fromdict_showmiss = [text_raw_dict.doc2bow(one_text, return_missing = True)\n",
    "                            for one_text in text_raw_tokens]\n",
    "print('Sample of documents represented in dictionary format (with omitted words noted):')\n",
    "corpus_fromdict_showmiss[:10]"
   ]
  },
  {
   "cell_type": "markdown",
   "metadata": {},
   "source": [
    "##  3.2 Estimating the model"
   ]
  },
  {
   "cell_type": "code",
   "execution_count": 31,
   "metadata": {},
   "outputs": [
    {
     "name": "stdout",
     "output_type": "stream",
     "text": [
      "<class 'gensim.models.ldamodel.LdaModel'>\n"
     ]
    }
   ],
   "source": [
    "## Step 5: we're finally ready to estimate the model!\n",
    "## full documentation here - https://radimrehurek.com/gensim/models/ldamodel.html\n",
    "## here, we're feeding the lda function:\n",
    "## (1) the corpus we created from the dictionary,\n",
    "## (2) a parameter we decide on for the number of topics (k),\n",
    "## (3) the dictionary itself,\n",
    "## (4) parameter for number of passes through training data (more means slower), and\n",
    "## (5) parameter that returns, for each word remaining in dict, the topic probabilities.\n",
    "## see documentation for many other arguments you can vary\n",
    "ldamod = gensim.models.ldamodel.LdaModel(corpus_fromdict, \n",
    "                                         num_topics = 5, \n",
    "                                         id2word=text_raw_dict, \n",
    "                                         passes=6, \n",
    "                                         alpha = 'auto',\n",
    "                                         per_word_topics = True)\n",
    "\n",
    "print(type(ldamod))\n",
    "\n"
   ]
  },
  {
   "cell_type": "markdown",
   "metadata": {},
   "source": [
    "## 3.3  Seeing what topics the estimated model discovers"
   ]
  },
  {
   "cell_type": "code",
   "execution_count": 32,
   "metadata": {},
   "outputs": [
    {
     "name": "stdout",
     "output_type": "stream",
     "text": [
      "(0, '0.195*\",\" + 0.117*\"to\" + 0.088*\".\" + 0.077*\"studio\" + 0.057*\"&\" + 0.053*\"manhattan\" + 0.046*\"room\" + 0.042*\"sunny\" + 0.041*\"beautiful\" + 0.037*\"private\"')\n",
      "(1, '0.223*\"!\" + 0.093*\"large\" + 0.086*\"1\" + 0.069*\",\" + 0.064*\"apt\" + 0.056*\"-\" + 0.049*\"in\" + 0.045*\"room\" + 0.035*\"bedroom\" + 0.032*\"&\"')\n",
      "(2, '0.191*\"in\" + 0.169*\"room\" + 0.127*\"private\" + 0.092*\"apartment\" + 0.079*\"cozy\" + 0.042*\"park\" + 0.038*\"near\" + 0.037*\"with\" + 0.030*\"-\" + 0.030*\"manhattan\"')\n",
      "(3, '0.132*\"/\" + 0.112*\"in\" + 0.098*\"brooklyn\" + 0.083*\"spacious\" + 0.078*\"-\" + 0.073*\"apt\" + 0.058*\"east\" + 0.056*\"bedroom\" + 0.054*\",\" + 0.042*\"1\"')\n",
      "(4, '0.162*\"in\" + 0.127*\"the\" + 0.116*\"bedroom\" + 0.115*\"williamsburg\" + 0.097*\"2\" + 0.088*\"of\" + 0.043*\"apartment\" + 0.040*\"room\" + 0.025*\"beautiful\" + 0.025*\"sunny\"')\n"
     ]
    }
   ],
   "source": [
    "## Post-model 1: explore corpus-wide summary of topics\n",
    "### getting the topics and top words; can retrieve diff top words\n",
    "topics = ldamod.print_topics(num_words = 10)\n",
    "for topic in topics:\n",
    "    print(topic)\n"
   ]
  },
  {
   "cell_type": "code",
   "execution_count": 33,
   "metadata": {},
   "outputs": [
    {
     "data": {
      "text/plain": [
       "[['super', 'cozy', '!'],\n",
       " ['beautiful', 'private', 'bedroom', 'by', 'prospect', 'park'],\n",
       " ['best',\n",
       "  'location',\n",
       "  'on',\n",
       "  'the',\n",
       "  'upper',\n",
       "  'west',\n",
       "  'side',\n",
       "  '!',\n",
       "  '-',\n",
       "  'part',\n",
       "  'ii'],\n",
       " ['architecturally', 'stunning', 'former', 'synagogue', '!'],\n",
       " ['large', ',', 'beautiful', 'room', 'near', 'bushwick']]"
      ]
     },
     "execution_count": 33,
     "metadata": {},
     "output_type": "execute_result"
    },
    {
     "data": {
      "text/plain": [
       "[[(0, 0.05937979),\n",
       "  (1, 0.41738752),\n",
       "  (2, 0.4182678),\n",
       "  (3, 0.05361873),\n",
       "  (4, 0.051346146)],\n",
       " [(0, 0.43501684),\n",
       "  (1, 0.028431961),\n",
       "  (2, 0.47508165),\n",
       "  (3, 0.031304777),\n",
       "  (4, 0.03016478)],\n",
       " [(0, 0.04369371),\n",
       "  (1, 0.52681077),\n",
       "  (2, 0.051811393),\n",
       "  (3, 0.03959242),\n",
       "  (4, 0.3380917)],\n",
       " [(0, 0.092293404),\n",
       "  (1, 0.63511676),\n",
       "  (2, 0.10903528),\n",
       "  (3, 0.083508134),\n",
       "  (4, 0.080046415)],\n",
       " [(0, 0.028902572),\n",
       "  (1, 0.8858255),\n",
       "  (2, 0.034682408),\n",
       "  (3, 0.02582236),\n",
       "  (4, 0.02476717)]]"
      ]
     },
     "execution_count": 33,
     "metadata": {},
     "output_type": "execute_result"
    }
   ],
   "source": [
    "    \n",
    "## Post-model 2: explore topics associated with each document\n",
    "### for each item in our original dictionary, get list of topic probabilities\n",
    "l=[ldamod.get_document_topics(item) for item in corpus_fromdict]\n",
    "### print result\n",
    "text_raw_tokens[0:5]\n",
    "l[0:5]"
   ]
  },
  {
   "cell_type": "markdown",
   "metadata": {},
   "source": [
    "### Visualizing "
   ]
  },
  {
   "cell_type": "code",
   "execution_count": 34,
   "metadata": {},
   "outputs": [
    {
     "data": {
      "text/html": [
       "\n",
       "<link rel=\"stylesheet\" type=\"text/css\" href=\"https://cdn.jsdelivr.net/gh/bmabey/pyLDAvis@3.4.0/pyLDAvis/js/ldavis.v1.0.0.css\">\n",
       "\n",
       "\n",
       "<div id=\"ldavis_el985963482590244478918312\" style=\"background-color:white;\"></div>\n",
       "<script type=\"text/javascript\">\n",
       "\n",
       "var ldavis_el985963482590244478918312_data = {\"mdsDat\": {\"x\": [-0.026788737867044794, 0.15767436917980368, 0.004717252785420543, -0.20309299107041948, 0.06749010697224063], \"y\": [-0.10268676017646483, -0.10714013433212291, 0.14250614495739122, -0.03299053917464062, 0.10031128872583722], \"topics\": [1, 2, 3, 4, 5], \"cluster\": [1, 1, 1, 1, 1], \"Freq\": [27.773879827485704, 21.43548487354273, 18.045526724567164, 17.551214099659383, 15.193894474745012]}, \"tinfo\": {\"Term\": [\"!\", \",\", \"the\", \"williamsburg\", \"to\", \"/\", \".\", \"large\", \"of\", \"in\", \"brooklyn\", \"2\", \"1\", \"apt\", \"apartment\", \"private\", \"bedroom\", \"&\", \"east\", \"studio\", \"spacious\", \"room\", \"cozy\", \"beautiful\", \"sunny\", \"manhattan\", \"park\", \"near\", \"-\", \"and\", \"cozy\", \"private\", \"apartment\", \"room\", \"near\", \"park\", \"with\", \"in\", \"and\", \"manhattan\", \"brooklyn\", \"-\", \"spacious\", \"bedroom\", \"large\", \"2\", \"apt\", \"studio\", \"/\", \"!\", \"of\", \",\", \"1\", \"beautiful\", \"the\", \"&\", \"to\", \"east\", \".\", \"sunny\", \"williamsburg\", \"to\", \".\", \"&\", \",\", \"studio\", \"beautiful\", \"manhattan\", \"sunny\", \"park\", \"with\", \"apartment\", \"private\", \"-\", \"spacious\", \"cozy\", \"room\", \"large\", \"near\", \"and\", \"2\", \"bedroom\", \"apt\", \"brooklyn\", \"in\", \"/\", \"of\", \"1\", \"!\", \"the\", \"williamsburg\", \"/\", \"east\", \"brooklyn\", \"spacious\", \"apt\", \"and\", \"-\", \"sunny\", \"1\", \"bedroom\", \"in\", \"studio\", \",\", \".\", \"cozy\", \"!\", \"room\", \"with\", \"to\", \"private\", \"williamsburg\", \"the\", \"of\", \"large\", \"apartment\", \"2\", \"near\", \"manhattan\", \"&\", \"beautiful\", \"park\", \"williamsburg\", \"the\", \"of\", \"2\", \"bedroom\", \"in\", \"beautiful\", \"sunny\", \"east\", \"apartment\", \"with\", \"1\", \"studio\", \"room\", \"-\", \"spacious\", \"&\", \"apt\", \"private\", \"to\", \"cozy\", \"and\", \"manhattan\", \"near\", \",\", \"!\", \".\", \"park\", \"/\", \"large\", \"!\", \"large\", \"1\", \"apt\", \"&\", \"beautiful\", \"near\", \"-\", \",\", \"manhattan\", \"2\", \"east\", \"bedroom\", \"park\", \"/\", \"room\", \"of\", \"with\", \"private\", \"brooklyn\", \"in\", \"and\", \"spacious\", \"sunny\", \"cozy\", \"studio\", \"the\", \".\", \"apartment\", \"to\"], \"Freq\": [126.0, 209.0, 76.0, 68.0, 88.0, 96.0, 71.0, 63.0, 59.0, 366.0, 94.0, 84.0, 83.0, 89.0, 131.0, 163.0, 152.0, 60.0, 51.0, 86.0, 87.0, 243.0, 97.0, 59.0, 68.0, 78.0, 70.0, 55.0, 131.0, 57.0, 71.06791737165356, 114.11370329287152, 82.56642572262076, 152.11564764627144, 34.45246476274381, 37.69503296473612, 33.22161875847379, 171.9667999934229, 23.740518011272364, 26.869532250177524, 26.006438014186042, 27.16774042664273, 15.566795904836683, 26.457922592779596, 8.557414124549656, 10.00928468728373, 7.524525144910033, 5.305576766977905, 5.722023962615602, 4.851416629262651, 2.14163133804586, 5.56444119634586, 2.1372585771421697, 1.1296805878692038, 0.9439658066492267, 0.6258254582873101, 0.8803057638987216, 0.26135936101998547, 0.3592211719528965, 0.3080781756163877, 0.26538990107194843, 81.04558128732333, 61.30685743008397, 39.91996115939543, 135.5303825216633, 53.23327930322507, 28.425516072175036, 37.07693338640917, 29.0763914843079, 24.416368418689093, 13.161639560127753, 22.60864814206266, 25.9810087861445, 20.876686330669713, 12.113658450151096, 13.495846630881513, 31.62321362900273, 7.513167098045645, 5.53308438300428, 4.150453595716684, 5.983262131094478, 10.432153786276674, 5.0272950123472615, 3.9196910164327585, 13.701879498289104, 3.4932003168537316, 1.4711341552145247, 0.7855347391304806, 1.1376669713169427, 0.5601084139575093, 0.49372591717533987, 77.29657955966991, 33.62540721994303, 57.549306884217344, 48.6889249166895, 42.430171549965216, 24.37391631194609, 45.54777278864073, 22.921295016702032, 24.679914567890236, 32.533929319721075, 65.46015426951077, 15.238104777075353, 31.27055997536145, 8.392470802789518, 8.086681034054825, 9.35147549463993, 15.085631494127654, 3.3940628993581807, 3.370971171763454, 6.008594844320929, 2.433513061439769, 2.314012330061894, 1.0723345012225165, 0.843530199594858, 0.9394557498456321, 0.44302494336702253, 0.2436146505297606, 0.29509278946134504, 0.20237705085813, 0.19933190600133022, 0.20235786241391754, 65.42488778994077, 72.03203369831593, 50.28459675268594, 55.219778097289506, 65.9998107810141, 91.82178115381016, 14.380581202970285, 14.126980688530548, 9.92851869658113, 24.3920581384669, 11.162609461268076, 13.247731362157849, 10.691171168506179, 22.814205035009678, 10.888236826427482, 6.5360302241093855, 3.6154128630881184, 3.5532378628517267, 5.495366263708753, 2.360314905831838, 2.535818780876425, 1.380213795322983, 1.870716096811086, 1.0901562479977955, 3.29956084406887, 1.517742132159576, 0.7300452752402131, 0.6797980697866858, 0.7794760152256981, 0.41044676044576767, 109.74990137540594, 45.83779120271358, 42.15054688507909, 31.271270403578498, 15.653972148665032, 15.188321497707847, 14.116113354016598, 27.352694922803323, 33.87767985251434, 12.062656719780323, 12.626728668933165, 7.0654917388014145, 17.05463109079702, 7.485639646585214, 9.493480329642747, 22.25822651539016, 4.573994831950886, 4.84212959680069, 11.690532381200123, 6.67065842434503, 23.93893547951876, 3.630631377481941, 4.737524024854911, 1.8495923915208035, 2.4674379140521627, 1.690259686459077, 1.1324893440497656, 0.3418121503563845, 0.6246899089523945, 0.3995937511856919], \"Total\": [126.0, 209.0, 76.0, 68.0, 88.0, 96.0, 71.0, 63.0, 59.0, 366.0, 94.0, 84.0, 83.0, 89.0, 131.0, 163.0, 152.0, 60.0, 51.0, 86.0, 87.0, 243.0, 97.0, 59.0, 68.0, 78.0, 70.0, 55.0, 131.0, 57.0, 97.6537017315185, 163.2892055682458, 131.13127766194836, 243.89692431980166, 55.43543339829224, 70.47919696221103, 65.78206027602849, 366.8895503945517, 57.27573309174006, 78.17493124263945, 94.36067212912637, 131.833131295184, 87.64293352064156, 152.47844757058846, 63.162349385349515, 84.28207852796791, 89.80649997365273, 86.15839170224358, 96.7847601840077, 126.60820260278504, 59.54369157911973, 209.54262438995386, 83.00098613139983, 59.3234312667237, 76.98260959303431, 60.01754868029402, 88.05676688000304, 51.081746762989226, 71.13040683042298, 68.28233775667768, 68.91234205506855, 88.05676688000304, 71.13040683042298, 60.01754868029402, 209.54262438995386, 86.15839170224358, 59.3234312667237, 78.17493124263945, 68.28233775667768, 70.47919696221103, 65.78206027602849, 131.13127766194836, 163.2892055682458, 131.833131295184, 87.64293352064156, 97.6537017315185, 243.89692431980166, 63.162349385349515, 55.43543339829224, 57.27573309174006, 84.28207852796791, 152.47844757058846, 89.80649997365273, 94.36067212912637, 366.8895503945517, 96.7847601840077, 59.54369157911973, 83.00098613139983, 126.60820260278504, 76.98260959303431, 68.91234205506855, 96.7847601840077, 51.081746762989226, 94.36067212912637, 87.64293352064156, 89.80649997365273, 57.27573309174006, 131.833131295184, 68.28233775667768, 83.00098613139983, 152.47844757058846, 366.8895503945517, 86.15839170224358, 209.54262438995386, 71.13040683042298, 97.6537017315185, 126.60820260278504, 243.89692431980166, 65.78206027602849, 88.05676688000304, 163.2892055682458, 68.91234205506855, 76.98260959303431, 59.54369157911973, 63.162349385349515, 131.13127766194836, 84.28207852796791, 55.43543339829224, 78.17493124263945, 60.01754868029402, 59.3234312667237, 70.47919696221103, 68.91234205506855, 76.98260959303431, 59.54369157911973, 84.28207852796791, 152.47844757058846, 366.8895503945517, 59.3234312667237, 68.28233775667768, 51.081746762989226, 131.13127766194836, 65.78206027602849, 83.00098613139983, 86.15839170224358, 243.89692431980166, 131.833131295184, 87.64293352064156, 60.01754868029402, 89.80649997365273, 163.2892055682458, 88.05676688000304, 97.6537017315185, 57.27573309174006, 78.17493124263945, 55.43543339829224, 209.54262438995386, 126.60820260278504, 71.13040683042298, 70.47919696221103, 96.7847601840077, 63.162349385349515, 126.60820260278504, 63.162349385349515, 83.00098613139983, 89.80649997365273, 60.01754868029402, 59.3234312667237, 55.43543339829224, 131.833131295184, 209.54262438995386, 78.17493124263945, 84.28207852796791, 51.081746762989226, 152.47844757058846, 70.47919696221103, 96.7847601840077, 243.89692431980166, 59.54369157911973, 65.78206027602849, 163.2892055682458, 94.36067212912637, 366.8895503945517, 57.27573309174006, 87.64293352064156, 68.28233775667768, 97.6537017315185, 86.15839170224358, 76.98260959303431, 71.13040683042298, 131.13127766194836, 88.05676688000304], \"Category\": [\"Default\", \"Default\", \"Default\", \"Default\", \"Default\", \"Default\", \"Default\", \"Default\", \"Default\", \"Default\", \"Default\", \"Default\", \"Default\", \"Default\", \"Default\", \"Default\", \"Default\", \"Default\", \"Default\", \"Default\", \"Default\", \"Default\", \"Default\", \"Default\", \"Default\", \"Default\", \"Default\", \"Default\", \"Default\", \"Default\", \"Topic1\", \"Topic1\", \"Topic1\", \"Topic1\", \"Topic1\", \"Topic1\", \"Topic1\", \"Topic1\", \"Topic1\", \"Topic1\", \"Topic1\", \"Topic1\", \"Topic1\", \"Topic1\", \"Topic1\", \"Topic1\", \"Topic1\", \"Topic1\", \"Topic1\", \"Topic1\", \"Topic1\", \"Topic1\", \"Topic1\", \"Topic1\", \"Topic1\", \"Topic1\", \"Topic1\", \"Topic1\", \"Topic1\", \"Topic1\", \"Topic1\", \"Topic2\", \"Topic2\", \"Topic2\", \"Topic2\", \"Topic2\", \"Topic2\", \"Topic2\", \"Topic2\", \"Topic2\", \"Topic2\", \"Topic2\", \"Topic2\", \"Topic2\", \"Topic2\", \"Topic2\", \"Topic2\", \"Topic2\", \"Topic2\", \"Topic2\", \"Topic2\", \"Topic2\", \"Topic2\", \"Topic2\", \"Topic2\", \"Topic2\", \"Topic2\", \"Topic2\", \"Topic2\", \"Topic2\", \"Topic2\", \"Topic3\", \"Topic3\", \"Topic3\", \"Topic3\", \"Topic3\", \"Topic3\", \"Topic3\", \"Topic3\", \"Topic3\", \"Topic3\", \"Topic3\", \"Topic3\", \"Topic3\", \"Topic3\", \"Topic3\", \"Topic3\", \"Topic3\", \"Topic3\", \"Topic3\", \"Topic3\", \"Topic3\", \"Topic3\", \"Topic3\", \"Topic3\", \"Topic3\", \"Topic3\", \"Topic3\", \"Topic3\", \"Topic3\", \"Topic3\", \"Topic3\", \"Topic4\", \"Topic4\", \"Topic4\", \"Topic4\", \"Topic4\", \"Topic4\", \"Topic4\", \"Topic4\", \"Topic4\", \"Topic4\", \"Topic4\", \"Topic4\", \"Topic4\", \"Topic4\", \"Topic4\", \"Topic4\", \"Topic4\", \"Topic4\", \"Topic4\", \"Topic4\", \"Topic4\", \"Topic4\", \"Topic4\", \"Topic4\", \"Topic4\", \"Topic4\", \"Topic4\", \"Topic4\", \"Topic4\", \"Topic4\", \"Topic5\", \"Topic5\", \"Topic5\", \"Topic5\", \"Topic5\", \"Topic5\", \"Topic5\", \"Topic5\", \"Topic5\", \"Topic5\", \"Topic5\", \"Topic5\", \"Topic5\", \"Topic5\", \"Topic5\", \"Topic5\", \"Topic5\", \"Topic5\", \"Topic5\", \"Topic5\", \"Topic5\", \"Topic5\", \"Topic5\", \"Topic5\", \"Topic5\", \"Topic5\", \"Topic5\", \"Topic5\", \"Topic5\", \"Topic5\"], \"logprob\": [30.0, 29.0, 28.0, 27.0, 26.0, 25.0, 24.0, 23.0, 22.0, 21.0, 20.0, 19.0, 18.0, 17.0, 16.0, 15.0, 14.0, 13.0, 12.0, 11.0, 10.0, 9.0, 8.0, 7.0, 6.0, 5.0, 4.0, 3.0, 2.0, 1.0, -2.5383, -2.0648, -2.3883, -1.7773, -3.2624, -3.1724, -3.2987, -1.6546, -3.6348, -3.511, -3.5436, -3.4999, -4.0568, -3.5264, -4.6551, -4.4984, -4.7838, -5.1332, -5.0576, -5.2227, -6.0404, -5.0855, -6.0424, -6.68, -6.8596, -7.2706, -6.9294, -8.1438, -7.8258, -7.9793, -8.1285, -2.1479, -2.427, -2.856, -1.6337, -2.5682, -3.1956, -2.9299, -3.173, -3.3476, -3.9656, -3.4246, -3.2855, -3.5043, -4.0486, -3.9405, -3.089, -4.5262, -4.8322, -5.1197, -4.7539, -4.198, -4.928, -5.1769, -3.9254, -5.2921, -6.1569, -6.7843, -6.4139, -7.1225, -7.2487, -2.0231, -2.8555, -2.3181, -2.4853, -2.6229, -3.1772, -2.552, -3.2387, -3.1648, -2.8885, -2.1893, -3.6469, -2.9281, -4.2434, -4.2805, -4.1352, -3.657, -5.1487, -5.1555, -4.5776, -5.4814, -5.5318, -6.3009, -6.5409, -6.4332, -7.1849, -7.7829, -7.5912, -7.9684, -7.9835, -7.9685, -2.1621, -2.0659, -2.4253, -2.3317, -2.1533, -1.8231, -3.6771, -3.6949, -4.0476, -3.1487, -3.9304, -3.7591, -3.9736, -3.2156, -3.9553, -4.4656, -5.0578, -5.0751, -4.6391, -5.4842, -5.4125, -6.0207, -5.7167, -6.2567, -5.1492, -5.9257, -6.6576, -6.7289, -6.5921, -7.2335, -1.5005, -2.3736, -2.4575, -2.756, -3.448, -3.4782, -3.5514, -2.8899, -2.676, -3.7086, -3.6629, -4.2435, -3.3623, -4.1858, -3.9481, -3.096, -4.6784, -4.6214, -3.74, -4.301, -3.0232, -4.9093, -4.6432, -5.5838, -5.2956, -5.6739, -6.0743, -7.2722, -6.6692, -7.1161], \"loglift\": [30.0, 29.0, 28.0, 27.0, 26.0, 25.0, 24.0, 23.0, 22.0, 21.0, 20.0, 19.0, 18.0, 17.0, 16.0, 15.0, 14.0, 13.0, 12.0, 11.0, 10.0, 9.0, 8.0, 7.0, 6.0, 5.0, 4.0, 3.0, 2.0, 1.0, 0.9633, 0.9227, 0.8185, 0.809, 0.8054, 0.6553, 0.5979, 0.5233, 0.4004, 0.2131, -0.0077, -0.2984, -0.4471, -0.4704, -0.7178, -0.8496, -1.1984, -1.5064, -1.5471, -1.9808, -2.0441, -2.3475, -2.3783, -2.68, -3.1202, -3.2822, -3.3244, -3.9942, -4.0073, -4.12, -4.2783, 1.4572, 1.3915, 1.1324, 1.1044, 1.0586, 0.8044, 0.7942, 0.6864, 0.4801, -0.0689, -0.2177, -0.298, -0.3028, -0.4388, -0.4389, -0.5027, -0.5889, -0.7644, -1.0845, -1.1051, -1.142, -1.3427, -1.641, -1.7474, -1.7815, -2.1606, -3.1201, -3.172, -3.3831, -3.3985, 1.4874, 1.2941, 1.2178, 1.1245, 0.9625, 0.8579, 0.6495, 0.6207, 0.4994, 0.1675, -0.0113, -0.0201, -0.19, -0.4249, -0.7789, -0.8933, -1.0707, -1.252, -1.5505, -1.5901, -1.6312, -1.7923, -2.3046, -2.6036, -3.2264, -3.536, -3.7151, -3.8671, -3.98, -3.9835, -4.1408, 1.6881, 1.6736, 1.571, 1.3172, 0.9027, 0.3548, 0.3229, 0.1645, 0.102, 0.0581, -0.0337, -0.095, -0.3467, -0.6293, -0.7538, -0.8559, -1.0694, -1.4898, -1.6516, -1.8791, -1.9109, -1.9856, -1.9926, -2.1889, -2.4111, -2.6838, -2.8391, -2.9012, -3.0816, -3.2962, 1.7414, 1.5637, 1.2067, 0.8293, 0.5404, 0.5218, 0.5164, 0.3116, 0.0621, 0.0154, -0.0141, -0.0939, -0.3063, -0.3581, -0.4376, -0.5098, -0.682, -0.7247, -0.7525, -0.7651, -0.8453, -0.8742, -1.0335, -1.7244, -1.794, -2.047, -2.3349, -3.4537, -3.4624, -3.511]}, \"token.table\": {\"Topic\": [1, 2, 3, 4, 5, 1, 2, 4, 5, 1, 2, 3, 4, 5, 1, 2, 3, 4, 5, 2, 3, 4, 1, 2, 3, 4, 5, 1, 2, 3, 4, 5, 1, 2, 4, 5, 1, 2, 3, 4, 5, 1, 2, 3, 4, 5, 1, 2, 3, 4, 5, 1, 2, 4, 5, 1, 2, 3, 4, 5, 1, 2, 3, 5, 1, 2, 3, 4, 5, 3, 4, 5, 1, 2, 3, 4, 5, 1, 2, 3, 5, 1, 2, 4, 5, 1, 2, 4, 5, 1, 2, 3, 4, 5, 1, 2, 4, 5, 1, 2, 3, 4, 5, 1, 2, 3, 4, 5, 1, 2, 3, 4, 5, 1, 2, 3, 4, 5, 2, 3, 4, 5, 1, 2, 3, 4, 5, 1, 2, 3, 4, 3, 4, 1, 2, 3, 4, 5], \"Freq\": [0.039491912034220866, 0.007898382406844174, 0.07108544166159755, 0.015796764813688347, 0.8688220647528591, 0.016661793458557846, 0.6664717383423139, 0.06664717383423138, 0.26658869533692553, 0.02863379237263986, 0.6490326271131702, 0.1479412605919726, 0.01431689618631993, 0.16225815677829256, 0.2048043593802307, 0.1592922795179572, 0.3489259456107634, 0.08343881308083473, 0.2048043593802307, 0.8575797991065315, 0.11246948185003693, 0.014058685231254616, 0.06199323104787126, 0.03099661552393563, 0.7955797984476812, 0.01033220517464521, 0.0929898465718069, 0.024096099253974847, 0.012048049626987424, 0.30120124067468557, 0.15662464515083652, 0.5060180843334718, 0.11864918586080705, 0.07118951151648423, 0.6525705222344388, 0.15424394161904917, 0.4190256275124155, 0.06983760458540259, 0.4190256275124155, 0.017459401146350646, 0.06983760458540259, 0.6329534911874417, 0.17539675057001397, 0.007625945676957129, 0.1830226962469711, 0.007625945676957129, 0.08908041180033767, 0.05567525737521105, 0.4676721619517728, 0.044540205900168835, 0.3451865957263085, 0.016856745785723458, 0.47198888200025685, 0.23599444100012842, 0.2528511867858519, 0.1705159018487747, 0.06558303917260565, 0.21642402926959867, 0.43284805853919733, 0.11149116659342961, 0.27553852058642303, 0.042390541628680466, 0.6146628536158667, 0.07418344785019082, 0.7270589720725783, 0.13312347375976785, 0.08192213769831869, 0.030720801636869507, 0.02048053442457967, 0.665599791599812, 0.19576464458818, 0.137035251211726, 0.46880593850392255, 0.03815862290148207, 0.17716503489973817, 0.25075666478116787, 0.0654147821168264, 0.14248994990815758, 0.12665773325169563, 0.015832216656461954, 0.7282819661972498, 0.3453792612390968, 0.473297506142466, 0.025583648980673838, 0.15350189388404303, 0.6133261330477379, 0.10823402347901258, 0.01803900391316876, 0.25254605478436265, 0.03358878072486427, 0.016794390362432136, 0.016794390362432136, 0.8397195181216068, 0.08397195181216069, 0.5391661885758223, 0.3405260138373615, 0.014188583909890062, 0.09932008736923043, 0.6981478022584557, 0.1592266917431566, 0.036744621171497675, 0.03062051764291473, 0.07348924234299535, 0.6232140910505911, 0.13120296653696656, 0.06150139056420307, 0.0943021321984447, 0.0902020394941645, 0.1825589281106354, 0.13691919608297654, 0.5590867173388209, 0.07986953104840298, 0.05704966503457356, 0.058032652434827185, 0.6151461158091681, 0.17409795730448155, 0.1276718353566198, 0.023213060973930874, 0.42470719299829396, 0.33683673927450897, 0.20503105868883156, 0.02929015124126165, 0.012989946759228644, 0.012989946759228644, 0.025979893518457288, 0.9352761666644623, 0.012989946759228644, 0.01135631065540622, 0.9198611630879038, 0.03406893196621866, 0.02271262131081244, 0.029022377419733895, 0.9432272661413517, 0.5016565285661244, 0.1976222688290793, 0.04560513896055676, 0.16721884285537478, 0.07600856493426127], \"Term\": [\"!\", \"!\", \"!\", \"!\", \"!\", \"&\", \"&\", \"&\", \"&\", \",\", \",\", \",\", \",\", \",\", \"-\", \"-\", \"-\", \"-\", \"-\", \".\", \".\", \".\", \"/\", \"/\", \"/\", \"/\", \"/\", \"1\", \"1\", \"1\", \"1\", \"1\", \"2\", \"2\", \"2\", \"2\", \"and\", \"and\", \"and\", \"and\", \"and\", \"apartment\", \"apartment\", \"apartment\", \"apartment\", \"apartment\", \"apt\", \"apt\", \"apt\", \"apt\", \"apt\", \"beautiful\", \"beautiful\", \"beautiful\", \"beautiful\", \"bedroom\", \"bedroom\", \"bedroom\", \"bedroom\", \"bedroom\", \"brooklyn\", \"brooklyn\", \"brooklyn\", \"brooklyn\", \"cozy\", \"cozy\", \"cozy\", \"cozy\", \"cozy\", \"east\", \"east\", \"east\", \"in\", \"in\", \"in\", \"in\", \"in\", \"large\", \"large\", \"large\", \"large\", \"manhattan\", \"manhattan\", \"manhattan\", \"manhattan\", \"near\", \"near\", \"near\", \"near\", \"of\", \"of\", \"of\", \"of\", \"of\", \"park\", \"park\", \"park\", \"park\", \"private\", \"private\", \"private\", \"private\", \"private\", \"room\", \"room\", \"room\", \"room\", \"room\", \"spacious\", \"spacious\", \"spacious\", \"spacious\", \"spacious\", \"studio\", \"studio\", \"studio\", \"studio\", \"studio\", \"sunny\", \"sunny\", \"sunny\", \"sunny\", \"the\", \"the\", \"the\", \"the\", \"the\", \"to\", \"to\", \"to\", \"to\", \"williamsburg\", \"williamsburg\", \"with\", \"with\", \"with\", \"with\", \"with\"]}, \"R\": 30, \"lambda.step\": 0.01, \"plot.opts\": {\"xlab\": \"PC1\", \"ylab\": \"PC2\"}, \"topic.order\": [3, 1, 4, 5, 2]};\n",
       "\n",
       "function LDAvis_load_lib(url, callback){\n",
       "  var s = document.createElement('script');\n",
       "  s.src = url;\n",
       "  s.async = true;\n",
       "  s.onreadystatechange = s.onload = callback;\n",
       "  s.onerror = function(){console.warn(\"failed to load library \" + url);};\n",
       "  document.getElementsByTagName(\"head\")[0].appendChild(s);\n",
       "}\n",
       "\n",
       "if(typeof(LDAvis) !== \"undefined\"){\n",
       "   // already loaded: just create the visualization\n",
       "   !function(LDAvis){\n",
       "       new LDAvis(\"#\" + \"ldavis_el985963482590244478918312\", ldavis_el985963482590244478918312_data);\n",
       "   }(LDAvis);\n",
       "}else if(typeof define === \"function\" && define.amd){\n",
       "   // require.js is available: use it to load d3/LDAvis\n",
       "   require.config({paths: {d3: \"https://d3js.org/d3.v5\"}});\n",
       "   require([\"d3\"], function(d3){\n",
       "      window.d3 = d3;\n",
       "      LDAvis_load_lib(\"https://cdn.jsdelivr.net/gh/bmabey/pyLDAvis@3.4.0/pyLDAvis/js/ldavis.v3.0.0.js\", function(){\n",
       "        new LDAvis(\"#\" + \"ldavis_el985963482590244478918312\", ldavis_el985963482590244478918312_data);\n",
       "      });\n",
       "    });\n",
       "}else{\n",
       "    // require.js not available: dynamically load d3 & LDAvis\n",
       "    LDAvis_load_lib(\"https://d3js.org/d3.v5.js\", function(){\n",
       "         LDAvis_load_lib(\"https://cdn.jsdelivr.net/gh/bmabey/pyLDAvis@3.4.0/pyLDAvis/js/ldavis.v3.0.0.js\", function(){\n",
       "                 new LDAvis(\"#\" + \"ldavis_el985963482590244478918312\", ldavis_el985963482590244478918312_data);\n",
       "            })\n",
       "         });\n",
       "}\n",
       "</script>"
      ],
      "text/plain": [
       "<IPython.core.display.HTML object>"
      ]
     },
     "execution_count": 34,
     "metadata": {},
     "output_type": "execute_result"
    }
   ],
   "source": [
    "lda_display = gensimvis.prepare(ldamod, corpus_fromdict, text_raw_dict)\n",
    "pyLDAvis.display(lda_display)"
   ]
  },
  {
   "cell_type": "markdown",
   "metadata": {},
   "source": [
    "## 3.4 Activity 3\n",
    "\n",
    "- Preprocess the texts if you haven't already\n",
    "- Run the topic model with preprocessed texts\n",
    "- Play around with other parameters like `n_topics` to find a configuration that produces useful topics\n",
    "\n",
    "If you get stuck on the preprocessing part, you can use below function and example code for applying it. Then continue as above (start with tokenizing)."
   ]
  },
  {
   "cell_type": "code",
   "execution_count": null,
   "metadata": {},
   "outputs": [],
   "source": []
  },
  {
   "cell_type": "code",
   "execution_count": null,
   "metadata": {},
   "outputs": [],
   "source": [
    "# Hint: example code for preprocessing\n",
    "def processtext(row, colname):\n",
    "    \n",
    "    string_of_col = str(row[colname])\n",
    "    try:\n",
    "        processed_string = \" \".join([porter.stem(i.lower()) \n",
    "                        for i in wordpunct_tokenize(string_of_col) if \n",
    "                        i.lower().isalpha() and len(i) >=3]) #and i not in punctlist]) # optional: remove punctuation too \n",
    "        return(processed_string)\n",
    "    except:\n",
    "        processed_string = \"\" # to handle data errors where not actually text\n",
    "        return(processed_string)\n",
    "\n",
    "# ab_small['text_preprocess'] = ab_small.apply(processtext,\n",
    "#                             axis = 1,\n",
    "#                             args = [\"name_lower\"])\n",
    "#\n",
    "# ab_small = ab_small[ab_small.text_preprocess != \"\"].copy()\n",
    "#\n",
    "# ab_small.head()"
   ]
  }
 ],
 "metadata": {
  "kernelspec": {
   "display_name": "Python 3 (ipykernel)",
   "language": "python",
   "name": "python3"
  },
  "language_info": {
   "codemirror_mode": {
    "name": "ipython",
    "version": 3
   },
   "file_extension": ".py",
   "mimetype": "text/x-python",
   "name": "python",
   "nbconvert_exporter": "python",
   "pygments_lexer": "ipython3",
   "version": "3.11.7"
  }
 },
 "nbformat": 4,
 "nbformat_minor": 4
}
